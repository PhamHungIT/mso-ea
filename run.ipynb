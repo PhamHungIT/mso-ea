{
 "cells": [
  {
   "cell_type": "code",
   "execution_count": 1,
   "metadata": {},
   "outputs": [],
   "source": [
    "from MFEA_lib.model import model_official\n",
    "from MFEA_lib.model.utils import *\n",
    "from MFEA_lib.operators.Crossover import *\n",
    "from MFEA_lib.operators.Mutation import *\n",
    "from MFEA_lib.operators.Selection import *\n",
    "from MFEA_lib.operators.Search import *\n",
    "from MFEA_lib.tasks.Benchmark.Funcs import WCCI22_benchmark\n",
    "from MFEA_lib.EA import *"
   ]
  },
  {
   "cell_type": "markdown",
   "metadata": {},
   "source": [
    "Param for complex benchmark"
   ]
  },
  {
   "cell_type": "code",
   "execution_count": 5,
   "metadata": {},
   "outputs": [],
   "source": [
    "# ls_benchmark = []\n",
    "# ls_IndClass = []\n",
    "# for i in range(2, 3, 1):\n",
    "#     t, ic = WCCI22_benchmark.get_complex_benchmark(i)\n",
    "#     ls_benchmark.append(t)\n",
    "#     ls_IndClass.append(IndividualDE)\n",
    "# name_benchmark = np.arange(len(ls_benchmark)) + 1\n",
    "\n",
    "# save_model_loc = \"./model_saved/__static__/WCCI22_complex/temp_model_benchmark_id_\"\n",
    "\n",
    "# num_eval_task_per_epoch = 1000"
   ]
  },
  {
   "cell_type": "markdown",
   "metadata": {},
   "source": [
    "Param for many task benchmark"
   ]
  },
  {
   "cell_type": "code",
   "execution_count": 2,
   "metadata": {},
   "outputs": [],
   "source": [
    "ls_benchmark = []\n",
    "ls_IndClass = []\n",
    "for i in range(1, 2, 1):\n",
    "    t, ic = WCCI22_benchmark.get_50tasks_benchmark(i)\n",
    "    ls_benchmark.append(t)\n",
    "    ls_IndClass.append(IndividualDE)\n",
    "name_benchmark = np.arange(len(ls_benchmark)) + 1\n",
    "\n",
    "save_model_loc = \"./model_saved/__static__/WCCI22_many/temp_model_benchmark_id_\"\n",
    "\n",
    "num_eval_task_per_epoch = 100\n",
    "\n"
   ]
  },
  {
   "cell_type": "markdown",
   "metadata": {},
   "source": [
    "Run and save models"
   ]
  },
  {
   "cell_type": "code",
   "execution_count": 3,
   "metadata": {},
   "outputs": [
    {
     "name": "stdout",
     "output_type": "stream",
     "text": [
      "Time: 07m 21.40s  100 % [====================>]  Pop_size: 3.20E+03  ,  Cost: 4.80E-07  4.75E-07  4.67E-07  4.66E-07  4.79E-07  4.92E-07  4.92E-07  4.83E-07  4.93E-07  4.93E-07  4.48E-07  4.79E-07  4.74E-07  4.87E-07  4.97E-07  4.34E-07  4.76E-07  4.76E-07  4.73E-07  4.78E-07  4.76E-07  4.93E-07  4.45E-07  4.99E-07  4.75E-07  4.70E-07  4.78E-07  4.87E-07  4.74E-07  4.87E-07  4.94E-07  4.53E-07  4.68E-07  4.91E-07  4.55E-07  4.86E-07  4.75E-07  4.91E-07  4.97E-07  4.81E-07  4.95E-07  4.60E-07  4.67E-07  4.83E-07  4.84E-07  4.73E-07  4.80E-07  4.90E-07  4.87E-07  4.76E-07  ,  Checking...Checking...Checking...Checking...Checking...Checking...Checking...Checking...Checking...Checking...Checking...Checking...Checking...Checking...Checking...Checking...Checking...Checking...Checking...Checking...Checking...Checking...Checking...Checking...Checking...Checking...Checking...Checking...Checking...DONE!\n"
     ]
    },
    {
     "name": "stderr",
     "output_type": "stream",
     "text": [
      "c:\\Users\\Bachkhoa\\Desktop\\MFEA_Competition_Nhom2\\mso-ea\\MFEA_lib\\model\\utils.py:70: VisibleDeprecationWarning: Creating an ndarray from ragged nested sequences (which is a list-or-tuple of lists-or-tuples-or ndarrays with different lengths or shapes) is deprecated. If you meant to do this, you must specify 'dtype=object' when creating the ndarray.\n",
      "  result = np.array(result)\n"
     ]
    },
    {
     "name": "stdout",
     "output_type": "stream",
     "text": [
      "Saved\n"
     ]
    }
   ],
   "source": [
    "model = MultiBenchmark(\n",
    "    ls_benchmark= ls_benchmark,\n",
    "    name_benchmark= name_benchmark,\n",
    "    ls_IndClass= ls_IndClass,\n",
    "    model = model_official\n",
    ")\n",
    "model.compile(\n",
    "    crossover= SBX_Crossover(nc = 2),\n",
    "    mutation = Polynomial_Mutation(nm = 5),\n",
    "    selection= ElitismSelection(random_percent= 0.),\n",
    ")\n",
    "model.fit(\n",
    "    nb_inds_each_task=100,\n",
    "    nb_inds_min=30,\n",
    "    nb_generations=1000,\n",
    "    num_eval_task_per_epoch = num_eval_task_per_epoch,\n",
    "    LSA = True,\n",
    "    evaluate_initial_skillFactor= True\n",
    ")\n",
    "a = model.run(\n",
    "    nb_run= 30,\n",
    "    save_path= save_model_loc\n",
    ")"
   ]
  }
 ],
 "metadata": {
  "kernelspec": {
   "display_name": "Python 3.10.4 ('learnCS')",
   "language": "python",
   "name": "python3"
  },
  "language_info": {
   "codemirror_mode": {
    "name": "ipython",
    "version": 3
   },
   "file_extension": ".py",
   "mimetype": "text/x-python",
   "name": "python",
   "nbconvert_exporter": "python",
   "pygments_lexer": "ipython3",
   "version": "3.10.4"
  },
  "orig_nbformat": 4,
  "vscode": {
   "interpreter": {
    "hash": "d2d74ce3e99bc2d991502eaa9ff6878b69f13ebfe616751bd67e96721470575f"
   }
  }
 },
 "nbformat": 4,
 "nbformat_minor": 2
}
