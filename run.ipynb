{
 "cells": [
  {
   "cell_type": "code",
   "execution_count": 1,
   "metadata": {},
   "outputs": [],
   "source": [
    "from MFEA_lib.model import Model_Offical\n",
    "from MFEA_lib.model.utils import *\n",
    "from MFEA_lib.operators.Crossover import *\n",
    "from MFEA_lib.operators.Mutation import *\n",
    "from MFEA_lib.operators.Selection import *\n",
    "from MFEA_lib.operators.Search import *\n",
    "from MFEA_lib.tasks.Benchmark.Funcs import WCCI22_benchmark"
   ]
  },
  {
   "cell_type": "code",
   "execution_count": 2,
   "metadata": {},
   "outputs": [],
   "source": [
    "class IndividualDE(Individual):\n",
    "    def __init__(self, genes, dim= None) -> None:\n",
    "        super().__init__(genes, dim)\n",
    "        if genes is None:\n",
    "            self.genes: np.ndarray = np.random.rand(dim)\n",
    "        self.transfer =False"
   ]
  },
  {
   "cell_type": "code",
   "execution_count": 3,
   "metadata": {},
   "outputs": [],
   "source": [
    "ls_benchmark = []\n",
    "ls_IndClass = []\n",
    "for i in range(1, 11, 1):\n",
    "    t, ic = WCCI22_benchmark.get_complex_benchmark(i)\n",
    "    ls_benchmark.append(t)\n",
    "    ls_IndClass.append(IndividualDE)\n",
    "\n",
    "name_benchmark = np.arange(len(ls_benchmark)) + 1"
   ]
  },
  {
   "cell_type": "code",
   "execution_count": 4,
   "metadata": {},
   "outputs": [
    {
     "name": "stdout",
     "output_type": "stream",
     "text": [
      "Time: 00m 54.78s  100 % [====================>]  Pop_size: 6.00E+01  ,  Cost: 6.02E+02  6.01E+02  ,  DONE!\n",
      "Saved\n",
      "Time: 00m 14.44s   31 % [======>             ]  Pop_size: 1.56E+02  ,  Cost: 7.00E+02  7.00E+02  ,  "
     ]
    },
    {
     "ename": "AttributeError",
     "evalue": "'model' object has no attribute 'last_pop'",
     "output_type": "error",
     "traceback": [
      "\u001b[1;31m---------------------------------------------------------------------------\u001b[0m",
      "\u001b[1;31mKeyboardInterrupt\u001b[0m                         Traceback (most recent call last)",
      "File \u001b[1;32md:\\Competition Official\\mso-ea\\MFEA_lib\\model\\utils.py:185\u001b[0m, in \u001b[0;36mMultiTimeModel.run\u001b[1;34m(self, nb_run, save_path, seed_arr, random_seed, replace_folder)\u001b[0m\n\u001b[0;32m    184\u001b[0m model\u001b[39m.\u001b[39mcompile(\u001b[39m*\u001b[39m\u001b[39m*\u001b[39m\u001b[39mself\u001b[39m\u001b[39m.\u001b[39mcompile_kwargs)\n\u001b[1;32m--> 185\u001b[0m model\u001b[39m.\u001b[39mfit(\u001b[39m*\u001b[39m\u001b[39mself\u001b[39m\u001b[39m.\u001b[39margs, \u001b[39m*\u001b[39m\u001b[39m*\u001b[39m\u001b[39mself\u001b[39m\u001b[39m.\u001b[39mkwargs)\n\u001b[0;32m    187\u001b[0m \u001b[39mself\u001b[39m\u001b[39m.\u001b[39mtotal_time \u001b[39m+\u001b[39m\u001b[39m=\u001b[39m model\u001b[39m.\u001b[39mtime_end \u001b[39m-\u001b[39m model\u001b[39m.\u001b[39mtime_begin\n",
      "File \u001b[1;32md:\\Competition Official\\mso-ea\\MFEA_lib\\model\\Model_Offical.py:415\u001b[0m, in \u001b[0;36mmodel.fit\u001b[1;34m(self, nb_inds_each_task, nb_generations, nb_inds_min, evaluate_initial_skillFactor, LSA, *args, **kwargs)\u001b[0m\n\u001b[0;32m    414\u001b[0m \u001b[39mif\u001b[39;00m random\u001b[39m.\u001b[39mrandom() \u001b[39m<\u001b[39m MUTATION_RATE :\n\u001b[1;32m--> 415\u001b[0m     offsprings\u001b[39m.\u001b[39m__addIndividual__(\u001b[39mself\u001b[39;49m\u001b[39m.\u001b[39;49mcurrent_to_pbest(population[t], t, indiv))\n\u001b[0;32m    416\u001b[0m \u001b[39melse\u001b[39;00m :\n",
      "File \u001b[1;32md:\\Competition Official\\mso-ea\\MFEA_lib\\model\\Model_Offical.py:55\u001b[0m, in \u001b[0;36mmodel.current_to_pbest\u001b[1;34m(self, sub_pop, id_task, curr_indiv)\u001b[0m\n\u001b[0;32m     54\u001b[0m pbest \u001b[39m=\u001b[39m sub_pop[np\u001b[39m.\u001b[39mrandom\u001b[39m.\u001b[39mchoice(idx_elites)]\n\u001b[1;32m---> 55\u001b[0m r1 \u001b[39m=\u001b[39m sub_pop\u001b[39m.\u001b[39;49m__getRandomItems__()\n\u001b[0;32m     56\u001b[0m \u001b[39mif\u001b[39;00m \u001b[39mself\u001b[39m\u001b[39m.\u001b[39mupdate_time[id_task] \u001b[39m>\u001b[39m \u001b[39m0\u001b[39m \u001b[39mand\u001b[39;00m np\u001b[39m.\u001b[39mrandom\u001b[39m.\u001b[39mrand() \u001b[39m<\u001b[39m\u001b[39m=\u001b[39m \u001b[39mlen\u001b[39m(\u001b[39mself\u001b[39m\u001b[39m.\u001b[39marchive[id_task]) \u001b[39m/\u001b[39m (\u001b[39mlen\u001b[39m(\u001b[39mself\u001b[39m\u001b[39m.\u001b[39marchive[id_task]) \u001b[39m+\u001b[39m \u001b[39mlen\u001b[39m(sub_pop)):\n",
      "File \u001b[1;32md:\\Competition Official\\mso-ea\\MFEA_lib\\EA.py:133\u001b[0m, in \u001b[0;36mSubPopulation.__getRandomItems__\u001b[1;34m(self, size, replace)\u001b[0m\n\u001b[0;32m    132\u001b[0m \u001b[39mif\u001b[39;00m size \u001b[39m==\u001b[39m \u001b[39mNone\u001b[39;00m:\n\u001b[1;32m--> 133\u001b[0m     \u001b[39mreturn\u001b[39;00m \u001b[39mself\u001b[39m\u001b[39m.\u001b[39mls_inds[np\u001b[39m.\u001b[39;49mrandom\u001b[39m.\u001b[39;49mchoice(\u001b[39mlen\u001b[39;49m(\u001b[39mself\u001b[39;49m), size \u001b[39m=\u001b[39;49m \u001b[39mNone\u001b[39;49;00m, replace\u001b[39m=\u001b[39;49m replace)]\n\u001b[0;32m    134\u001b[0m \u001b[39mreturn\u001b[39;00m [\u001b[39mself\u001b[39m\u001b[39m.\u001b[39mls_inds[idx] \u001b[39mfor\u001b[39;00m idx \u001b[39min\u001b[39;00m np\u001b[39m.\u001b[39mrandom\u001b[39m.\u001b[39mchoice(\u001b[39mlen\u001b[39m(\u001b[39mself\u001b[39m), size\u001b[39m=\u001b[39m size, replace\u001b[39m=\u001b[39m replace)\u001b[39m.\u001b[39mtolist()]\n",
      "\u001b[1;31mKeyboardInterrupt\u001b[0m: ",
      "\nDuring handling of the above exception, another exception occurred:\n",
      "\u001b[1;31mAttributeError\u001b[0m                            Traceback (most recent call last)",
      "\u001b[1;32md:\\Competition Official\\mso-ea\\run.ipynb Cell 4'\u001b[0m in \u001b[0;36m<cell line: 19>\u001b[1;34m()\u001b[0m\n\u001b[0;32m      <a href='vscode-notebook-cell:/d%3A/Competition%20Official/mso-ea/run.ipynb#ch0000003?line=6'>7</a>\u001b[0m model\u001b[39m.\u001b[39mcompile(\n\u001b[0;32m      <a href='vscode-notebook-cell:/d%3A/Competition%20Official/mso-ea/run.ipynb#ch0000003?line=7'>8</a>\u001b[0m     crossover\u001b[39m=\u001b[39m SBX_Crossover(nc \u001b[39m=\u001b[39m \u001b[39m2\u001b[39m),\n\u001b[0;32m      <a href='vscode-notebook-cell:/d%3A/Competition%20Official/mso-ea/run.ipynb#ch0000003?line=8'>9</a>\u001b[0m     mutation \u001b[39m=\u001b[39m Polynomial_Mutation(nm \u001b[39m=\u001b[39m \u001b[39m5\u001b[39m),\n\u001b[0;32m     <a href='vscode-notebook-cell:/d%3A/Competition%20Official/mso-ea/run.ipynb#ch0000003?line=9'>10</a>\u001b[0m     selection\u001b[39m=\u001b[39m ElitismSelection(random_percent\u001b[39m=\u001b[39m \u001b[39m0.\u001b[39m),\n\u001b[0;32m     <a href='vscode-notebook-cell:/d%3A/Competition%20Official/mso-ea/run.ipynb#ch0000003?line=10'>11</a>\u001b[0m )\n\u001b[0;32m     <a href='vscode-notebook-cell:/d%3A/Competition%20Official/mso-ea/run.ipynb#ch0000003?line=11'>12</a>\u001b[0m model\u001b[39m.\u001b[39mfit(\n\u001b[0;32m     <a href='vscode-notebook-cell:/d%3A/Competition%20Official/mso-ea/run.ipynb#ch0000003?line=12'>13</a>\u001b[0m     nb_inds_each_task\u001b[39m=\u001b[39m\u001b[39m100\u001b[39m,\n\u001b[0;32m     <a href='vscode-notebook-cell:/d%3A/Competition%20Official/mso-ea/run.ipynb#ch0000003?line=13'>14</a>\u001b[0m     nb_inds_min\u001b[39m=\u001b[39m\u001b[39m30\u001b[39m,\n\u001b[1;32m   (...)\u001b[0m\n\u001b[0;32m     <a href='vscode-notebook-cell:/d%3A/Competition%20Official/mso-ea/run.ipynb#ch0000003?line=16'>17</a>\u001b[0m     evaluate_initial_skillFactor\u001b[39m=\u001b[39m \u001b[39mTrue\u001b[39;00m\n\u001b[0;32m     <a href='vscode-notebook-cell:/d%3A/Competition%20Official/mso-ea/run.ipynb#ch0000003?line=17'>18</a>\u001b[0m )\n\u001b[1;32m---> <a href='vscode-notebook-cell:/d%3A/Competition%20Official/mso-ea/run.ipynb#ch0000003?line=18'>19</a>\u001b[0m a \u001b[39m=\u001b[39m model\u001b[39m.\u001b[39;49mrun(\n\u001b[0;32m     <a href='vscode-notebook-cell:/d%3A/Competition%20Official/mso-ea/run.ipynb#ch0000003?line=19'>20</a>\u001b[0m     nb_run\u001b[39m=\u001b[39;49m \u001b[39m1\u001b[39;49m,\n\u001b[0;32m     <a href='vscode-notebook-cell:/d%3A/Competition%20Official/mso-ea/run.ipynb#ch0000003?line=20'>21</a>\u001b[0m     save_path\u001b[39m=\u001b[39;49m \u001b[39m\"\u001b[39;49m\u001b[39m./RESULTS/__static__/WCCI22_complex/MFEA_anhHa_COMPLEX/MFEA_anhHa_id_\u001b[39;49m\u001b[39m\"\u001b[39;49m\n\u001b[0;32m     <a href='vscode-notebook-cell:/d%3A/Competition%20Official/mso-ea/run.ipynb#ch0000003?line=21'>22</a>\u001b[0m )\n",
      "File \u001b[1;32md:\\Competition Official\\mso-ea\\MFEA_lib\\model\\utils.py:371\u001b[0m, in \u001b[0;36mMultiBenchmark.run\u001b[1;34m(self, nb_run, save_path)\u001b[0m\n\u001b[0;32m    369\u001b[0m model\u001b[39m.\u001b[39mcompile(\u001b[39m*\u001b[39m\u001b[39m*\u001b[39m\u001b[39mself\u001b[39m\u001b[39m.\u001b[39mcompile_kwargs) \n\u001b[0;32m    370\u001b[0m model\u001b[39m.\u001b[39mfit(\u001b[39m*\u001b[39m\u001b[39m*\u001b[39m\u001b[39mself\u001b[39m\u001b[39m.\u001b[39mfit_kwargs) \n\u001b[1;32m--> 371\u001b[0m model\u001b[39m.\u001b[39;49mrun(nb_run \u001b[39m=\u001b[39;49m nb_run, save_path\u001b[39m=\u001b[39;49m save_path \u001b[39m+\u001b[39;49m \u001b[39mstr\u001b[39;49m(\u001b[39mself\u001b[39;49m\u001b[39m.\u001b[39;49mls_name_benchmark[idx]) \u001b[39m+\u001b[39;49m \u001b[39m\"\u001b[39;49m\u001b[39m.mso\u001b[39;49m\u001b[39m\"\u001b[39;49m) \n\u001b[0;32m    372\u001b[0m \u001b[39mself\u001b[39m\u001b[39m.\u001b[39mls_model\u001b[39m.\u001b[39mappend(model)\n",
      "File \u001b[1;32md:\\Competition Official\\mso-ea\\MFEA_lib\\model\\utils.py:193\u001b[0m, in \u001b[0;36mMultiTimeModel.run\u001b[1;34m(self, nb_run, save_path, seed_arr, random_seed, replace_folder)\u001b[0m\n\u001b[0;32m    190\u001b[0m \u001b[39mself\u001b[39m\u001b[39m.\u001b[39mstatus \u001b[39m=\u001b[39m \u001b[39m'\u001b[39m\u001b[39mRunning\u001b[39m\u001b[39m'\u001b[39m\n\u001b[0;32m    191\u001b[0m \u001b[39mself\u001b[39m\u001b[39m.\u001b[39mset_attribute()\n\u001b[1;32m--> 193\u001b[0m save_result \u001b[39m=\u001b[39m saveModel(\u001b[39mself\u001b[39;49m, save_path)\n\u001b[0;32m    194\u001b[0m \u001b[39mprint\u001b[39m(\u001b[39m'\u001b[39m\u001b[39m\\n\u001b[39;00m\u001b[39m\\n\u001b[39;00m\u001b[39mKeyboardInterrupt: \u001b[39m\u001b[39m'\u001b[39m \u001b[39m+\u001b[39m\n\u001b[0;32m    195\u001b[0m       save_result \u001b[39m+\u001b[39m \u001b[39m'\u001b[39m\u001b[39m model, model is not Done\u001b[39m\u001b[39m'\u001b[39m)\n\u001b[0;32m    196\u001b[0m traceback\u001b[39m.\u001b[39mprint_exc()\n",
      "File \u001b[1;32md:\\Competition Official\\mso-ea\\MFEA_lib\\model\\utils.py:235\u001b[0m, in \u001b[0;36msaveModel\u001b[1;34m(model, PATH, remove_tasks)\u001b[0m\n\u001b[0;32m    233\u001b[0m \u001b[39mfor\u001b[39;00m submodel \u001b[39min\u001b[39;00m model\u001b[39m.\u001b[39mls_model:\n\u001b[0;32m    234\u001b[0m     submodel\u001b[39m.\u001b[39mtasks \u001b[39m=\u001b[39m \u001b[39mNone\u001b[39;00m\n\u001b[1;32m--> 235\u001b[0m     submodel\u001b[39m.\u001b[39;49mlast_pop\u001b[39m.\u001b[39mls_tasks \u001b[39m=\u001b[39m \u001b[39mNone\u001b[39;00m\n\u001b[0;32m    236\u001b[0m     \u001b[39mfor\u001b[39;00m subpop \u001b[39min\u001b[39;00m submodel\u001b[39m.\u001b[39mlast_pop:\n\u001b[0;32m    237\u001b[0m         subpop\u001b[39m.\u001b[39mtask \u001b[39m=\u001b[39m \u001b[39mNone\u001b[39;00m\n",
      "\u001b[1;31mAttributeError\u001b[0m: 'model' object has no attribute 'last_pop'"
     ]
    }
   ],
   "source": [
    "model = MultiBenchmark(\n",
    "    ls_benchmark= ls_benchmark,\n",
    "    name_benchmark= name_benchmark,\n",
    "    ls_IndClass= ls_IndClass,\n",
    "    model = Model_Offical\n",
    ")\n",
    "model.compile(\n",
    "    crossover= SBX_Crossover(nc = 2),\n",
    "    mutation = Polynomial_Mutation(nm = 5),\n",
    "    selection= ElitismSelection(random_percent= 0.),\n",
    ")\n",
    "model.fit(\n",
    "    nb_inds_each_task=100,\n",
    "    nb_inds_min=30,\n",
    "    nb_generations=1000,\n",
    "    LSA = True,\n",
    "    evaluate_initial_skillFactor= True\n",
    ")\n",
    "a = model.run(\n",
    "    nb_run= 1,\n",
    "    save_path= \"./RESULTS/__static__/WCCI22_complex/MFEA_anhHa_COMPLEX/MFEA_anhHa_id_\"\n",
    ")"
   ]
  },
  {
   "cell_type": "code",
   "execution_count": null,
   "metadata": {},
   "outputs": [
    {
     "name": "stdout",
     "output_type": "stream",
     "text": [
      "1\n",
      "[6.03E+02 6.01E+02]\n",
      "2\n",
      "[7.00E+02 7.00E+02]\n",
      "3\n",
      "[6.37E+03 4.92E+03]\n",
      "4\n",
      "[1.30E+03 1.30E+03]\n",
      "5\n",
      "[1.51E+03 1.51E+03]\n",
      "6\n",
      "[8.40E+03 9.69E+03]\n",
      "7\n",
      "[2.25E+03 2.70E+03]\n",
      "8\n",
      "[5.21E+02 5.21E+02]\n",
      "9\n",
      "[8.56E+03 1.62E+03]\n",
      "10\n",
      "[2.28E+03 1.35E+04]\n"
     ]
    }
   ],
   "source": [
    "model.print_result([\"history_cost\"])"
   ]
  }
 ],
 "metadata": {
  "kernelspec": {
   "display_name": "Python 3.10.5 64-bit (windows store)",
   "language": "python",
   "name": "python3"
  },
  "language_info": {
   "codemirror_mode": {
    "name": "ipython",
    "version": 3
   },
   "file_extension": ".py",
   "mimetype": "text/x-python",
   "name": "python",
   "nbconvert_exporter": "python",
   "pygments_lexer": "ipython3",
   "version": "3.10.5"
  },
  "orig_nbformat": 4,
  "vscode": {
   "interpreter": {
    "hash": "76d70db784540673ff8721e4afe8e7ac8816e4741037d0eed66b88ac9b617eab"
   }
  }
 },
 "nbformat": 4,
 "nbformat_minor": 2
}
