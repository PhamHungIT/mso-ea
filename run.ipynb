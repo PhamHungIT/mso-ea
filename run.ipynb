{
 "cells": [
  {
   "cell_type": "code",
   "execution_count": 1,
   "metadata": {},
   "outputs": [],
   "source": [
    "from MFEA_lib.model import MFEA_anhHa_new_new\n",
    "from MFEA_lib.model.utils import *\n",
    "from MFEA_lib.operators.Crossover import *\n",
    "from MFEA_lib.operators.Mutation import *\n",
    "from MFEA_lib.operators.Selection import *\n",
    "from MFEA_lib.operators.Search import *\n",
    "from MFEA_lib.tasks.Benchmark.Funcs import WCCI22_benchmark"
   ]
  },
  {
   "cell_type": "code",
   "execution_count": 2,
   "metadata": {},
   "outputs": [],
   "source": [
    "class IndividualDE(Individual):\n",
    "    def __init__(self, genes, dim= None) -> None:\n",
    "        super().__init__(genes, dim)\n",
    "        if genes is None:\n",
    "            self.genes: np.ndarray = np.random.rand(dim)\n",
    "        self.transfer =False"
   ]
  },
  {
   "cell_type": "code",
   "execution_count": 3,
   "metadata": {},
   "outputs": [],
   "source": [
    "ls_benchmark = []\n",
    "ls_IndClass = []\n",
    "\n",
    "for i in range(1, 11, 1):\n",
    "    t, ic = WCCI22_benchmark.get_complex_benchmark(i)\n",
    "    ls_benchmark.append(t)\n",
    "    ls_IndClass.append(IndividualDE)\n",
    "\n",
    "name_benchmark = np.arange(len(ls_benchmark)) + 1"
   ]
  },
  {
   "cell_type": "code",
   "execution_count": 4,
   "metadata": {},
   "outputs": [
    {
     "name": "stdout",
     "output_type": "stream",
     "text": [
      "Time: 01m 24.92s  100 % [====================>]  Pop_size: 6.00E+01  ,  Cost: 6.03E+02  6.01E+02  ,  DONE!\n",
      "Saved\n",
      "Time: 00m 59.66s  100 % [====================>]  Pop_size: 6.00E+01  ,  Cost: 7.00E+02  7.00E+02  ,  DONE!\n",
      "Saved\n",
      "Time: 01m 5.98s  100 % [====================>]  Pop_size: 6.00E+01  ,  Cost: 6.37E+03  4.92E+03  ,  DONE!\n",
      "Saved\n",
      "Time: 00m 54.33s  100 % [====================>]  Pop_size: 6.00E+01  ,  Cost: 1.30E+03  1.30E+03  ,  DONE!\n",
      "Saved\n",
      "Time: 01m 4.16s  100 % [====================>]  Pop_size: 6.00E+01  ,  Cost: 1.51E+03  1.51E+03  ,  DONE!\n",
      "Saved\n",
      "Time: 01m 17.53s  100 % [====================>]  Pop_size: 6.00E+01  ,  Cost: 8.40E+03  9.69E+03  ,  DONE!\n",
      "Saved\n",
      "Time: 01m 15.42s  100 % [====================>]  Pop_size: 6.00E+01  ,  Cost: 2.25E+03  2.70E+03  ,  DONE!\n",
      "Saved\n",
      "Time: 00m 57.47s  100 % [====================>]  Pop_size: 6.00E+01  ,  Cost: 5.21E+02  5.21E+02  ,  DONE!\n",
      "Saved\n",
      "Time: 01m 20.08s  100 % [====================>]  Pop_size: 6.00E+01  ,  Cost: 8.56E+03  1.62E+03  ,  DONE!\n",
      "Saved\n",
      "Time: 01m 35.82s  100 % [====================>]  Pop_size: 6.00E+01  ,  Cost: 2.28E+03  1.35E+04  ,  DONE!\n",
      "Saved\n"
     ]
    }
   ],
   "source": [
    "model = MultiBenchmark(\n",
    "    ls_benchmark= ls_benchmark,\n",
    "    name_benchmark= name_benchmark,\n",
    "    ls_IndClass= ls_IndClass,\n",
    "    model = MFEA_anhHa_new_new\n",
    ")\n",
    "model.compile(\n",
    "    crossover= SBX_Crossover(nc = 2),\n",
    "    mutation = Polynomial_Mutation(nm = 5),\n",
    "    selection= ElitismSelection(random_percent= 0.),\n",
    ")\n",
    "model.fit(\n",
    "    nb_inds_each_task=100,\n",
    "    nb_inds_min=30,\n",
    "    nb_generations=1000,\n",
    "    LSA = True,\n",
    "    evaluate_initial_skillFactor= True\n",
    ")\n",
    "a = model.run(\n",
    "    nb_run= 1,\n",
    "    save_path= \"./RESULTS/__static__/WCCI22_complex/MFEA_anhHa_COMPLEX/MFEA_anhHa_id_\"\n",
    ")"
   ]
  },
  {
   "cell_type": "code",
   "execution_count": 5,
   "metadata": {},
   "outputs": [
    {
     "name": "stdout",
     "output_type": "stream",
     "text": [
      "1\n",
      "[6.03E+02 6.01E+02]\n",
      "2\n",
      "[7.00E+02 7.00E+02]\n",
      "3\n",
      "[6.37E+03 4.92E+03]\n",
      "4\n",
      "[1.30E+03 1.30E+03]\n",
      "5\n",
      "[1.51E+03 1.51E+03]\n",
      "6\n",
      "[8.40E+03 9.69E+03]\n",
      "7\n",
      "[2.25E+03 2.70E+03]\n",
      "8\n",
      "[5.21E+02 5.21E+02]\n",
      "9\n",
      "[8.56E+03 1.62E+03]\n",
      "10\n",
      "[2.28E+03 1.35E+04]\n"
     ]
    }
   ],
   "source": [
    "model.print_result([\"history_cost\"])"
   ]
  }
 ],
 "metadata": {
  "kernelspec": {
   "display_name": "Python 3.10.4 ('learnCS')",
   "language": "python",
   "name": "python3"
  },
  "language_info": {
   "codemirror_mode": {
    "name": "ipython",
    "version": 3
   },
   "file_extension": ".py",
   "mimetype": "text/x-python",
   "name": "python",
   "nbconvert_exporter": "python",
   "pygments_lexer": "ipython3",
   "version": "3.10.4"
  },
  "orig_nbformat": 4,
  "vscode": {
   "interpreter": {
    "hash": "d2d74ce3e99bc2d991502eaa9ff6878b69f13ebfe616751bd67e96721470575f"
   }
  }
 },
 "nbformat": 4,
 "nbformat_minor": 2
}
