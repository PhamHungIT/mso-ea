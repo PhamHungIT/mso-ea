{
 "cells": [
  {
   "cell_type": "code",
   "execution_count": 2,
   "metadata": {},
   "outputs": [],
   "source": [
    "from MFEA_lib.model import model_official\n",
    "from MFEA_lib.model.utils import *\n",
    "from MFEA_lib.operators.Crossover import *\n",
    "from MFEA_lib.operators.Mutation import *\n",
    "from MFEA_lib.operators.Selection import *\n",
    "from MFEA_lib.operators.Search import *\n",
    "from MFEA_lib.tasks.Benchmark.Funcs import WCCI22_benchmark\n",
    "from MFEA_lib.EA import *"
   ]
  },
  {
   "cell_type": "markdown",
   "metadata": {},
   "source": [
    "Param for complex benchmark"
   ]
  },
  {
   "cell_type": "code",
   "execution_count": 3,
   "metadata": {},
   "outputs": [],
   "source": [
    "# ls_benchmark = []\n",
    "# ls_IndClass = []\n",
    "# for i in range(1, 11, 1):\n",
    "#     t, ic = WCCI22_benchmark.get_complex_benchmark(i)\n",
    "#     ls_benchmark.append(t)\n",
    "#     ls_IndClass.append(IndividualDE)\n",
    "# name_benchmark = np.arange(len(ls_benchmark)) + 1\n",
    "\n",
    "# save_model_loc = \"./model_saved/__static__/WCCI22_complex/model_benchmark_id_\"\n",
    "\n",
    "# num_eval_task_per_epoch = 1000"
   ]
  },
  {
   "cell_type": "markdown",
   "metadata": {},
   "source": [
    "Param for many task benchmark"
   ]
  },
  {
   "cell_type": "code",
   "execution_count": 4,
   "metadata": {},
   "outputs": [],
   "source": [
    "ls_benchmark = []\n",
    "ls_IndClass = []\n",
    "for i in range(1, 11, 1):\n",
    "    t, ic = WCCI22_benchmark.get_50tasks_benchmark(i)\n",
    "    ls_benchmark.append(t)\n",
    "    ls_IndClass.append(IndividualDE)\n",
    "name_benchmark = np.arange(len(ls_benchmark)) + 1\n",
    "\n",
    "save_model_loc = \"./model_saved/__static__/WCCI22_many/model_benchmark_id_\"\n",
    "\n",
    "num_eval_task_per_epoch = 100\n",
    "\n"
   ]
  },
  {
   "cell_type": "markdown",
   "metadata": {},
   "source": [
    "Run and save models"
   ]
  },
  {
   "cell_type": "code",
   "execution_count": 5,
   "metadata": {},
   "outputs": [
    {
     "name": "stdout",
     "output_type": "stream",
     "text": [
      "Time: 10m 56.13s  100 % [====================>]  Pop_size: 3.25E+03  ,  Cost: 4.55E-07  4.62E-07  4.96E-07  4.73E-07  4.95E-07  4.68E-07  4.57E-07  4.99E-07  4.49E-07  4.26E-07  4.95E-07  4.70E-07  4.99E-07  4.66E-07  4.78E-07  4.70E-07  4.70E-07  4.86E-07  4.58E-07  4.53E-07  4.86E-07  4.54E-07  4.91E-07  4.95E-07  4.76E-07  4.89E-07  4.82E-07  4.74E-07  4.96E-07  4.74E-07  4.41E-07  4.71E-07  4.87E-07  4.73E-07  4.92E-07  4.47E-07  4.71E-07  4.81E-07  4.70E-07  4.73E-07  4.40E-07  4.99E-07  4.62E-07  4.74E-07  4.94E-07  4.86E-07  4.79E-07  4.65E-07  4.84E-07  4.27E-07  ,  DONE!\n",
      "Saved\n",
      "Time: 02m 34.16s   12 % [==>                 ]  Pop_size: 4.55E+03  ,  Cost: 2.81E+04  7.90E+03  5.02E+03  1.13E+04  4.32E+03  8.47E+03  6.21E+03  7.73E+03  8.95E+03  1.21E+04  1.12E+04  5.23E+03  1.34E+04  7.02E+03  9.36E+03  9.23E+03  5.06E+03  8.82E+03  7.82E+03  1.11E+04  5.36E+03  2.67E+04  4.15E+03  3.26E+03  1.01E+04  7.69E+03  4.44E+03  1.09E+04  1.70E+04  7.41E+03  1.38E+04  6.83E+03  1.11E+04  1.60E+04  5.25E+03  9.62E+03  2.61E+04  4.33E+03  6.00E+03  6.75E+03  3.18E+03  1.01E+04  7.44E+03  8.31E+03  1.34E+04  1.52E+04  7.49E+03  1.10E+04  8.80E+03  3.06E+03  ,  "
     ]
    },
    {
     "ename": "AttributeError",
     "evalue": "'model' object has no attribute 'last_pop'",
     "output_type": "error",
     "traceback": [
      "\u001b[1;31m---------------------------------------------------------------------------\u001b[0m",
      "\u001b[1;31mKeyboardInterrupt\u001b[0m                         Traceback (most recent call last)",
      "File \u001b[1;32md:\\Vincent\\Documents\\Lab\\Competition\\official\\MFEA_MSO\\MFEA_lib\\model\\utils.py:185\u001b[0m, in \u001b[0;36mMultiTimeModel.run\u001b[1;34m(self, nb_run, save_path, seed_arr, random_seed, replace_folder)\u001b[0m\n\u001b[0;32m    184\u001b[0m model\u001b[39m.\u001b[39mcompile(\u001b[39m*\u001b[39m\u001b[39m*\u001b[39m\u001b[39mself\u001b[39m\u001b[39m.\u001b[39mcompile_kwargs)\n\u001b[1;32m--> 185\u001b[0m model\u001b[39m.\u001b[39mfit(\u001b[39m*\u001b[39m\u001b[39mself\u001b[39m\u001b[39m.\u001b[39margs, \u001b[39m*\u001b[39m\u001b[39m*\u001b[39m\u001b[39mself\u001b[39m\u001b[39m.\u001b[39mkwargs)\n\u001b[0;32m    187\u001b[0m \u001b[39mself\u001b[39m\u001b[39m.\u001b[39mtotal_time \u001b[39m+\u001b[39m\u001b[39m=\u001b[39m model\u001b[39m.\u001b[39mtime_end \u001b[39m-\u001b[39m model\u001b[39m.\u001b[39mtime_begin\n",
      "File \u001b[1;32md:\\Vincent\\Documents\\Lab\\Competition\\official\\MFEA_MSO\\MFEA_lib\\model\\model_official.py:360\u001b[0m, in \u001b[0;36mmodel.fit\u001b[1;34m(self, nb_inds_each_task, nb_generations, nb_inds_min, num_eval_task_per_epoch, evaluate_initial_skillFactor, LSA, *args, **kwargs)\u001b[0m\n\u001b[0;32m    359\u001b[0m other_indiv \u001b[39m=\u001b[39m population[other_task]\u001b[39m.\u001b[39m__getRandomItems__()\n\u001b[1;32m--> 360\u001b[0m oa, ob \u001b[39m=\u001b[39m \u001b[39mself\u001b[39;49m\u001b[39m.\u001b[39;49mcrossover(indiv, other_indiv, t, t)\n\u001b[0;32m    361\u001b[0m oa\u001b[39m.\u001b[39mfcost  \u001b[39m=\u001b[39m \u001b[39mself\u001b[39m\u001b[39m.\u001b[39mtasks[t](oa\u001b[39m.\u001b[39mgenes)\n",
      "File \u001b[1;32md:\\Vincent\\Documents\\Lab\\Competition\\official\\MFEA_MSO\\MFEA_lib\\operators\\Crossover.py:44\u001b[0m, in \u001b[0;36mSBX_Crossover.__call__\u001b[1;34m(self, pa, pb, skf_oa, skf_ob, *args, **kwargs)\u001b[0m\n\u001b[0;32m     43\u001b[0m \u001b[39mdef\u001b[39;00m \u001b[39m__call__\u001b[39m(\u001b[39mself\u001b[39m, pa: Individual, pb: Individual, skf_oa\u001b[39m=\u001b[39m \u001b[39mNone\u001b[39;00m, skf_ob\u001b[39m=\u001b[39m \u001b[39mNone\u001b[39;00m, \u001b[39m*\u001b[39margs, \u001b[39m*\u001b[39m\u001b[39m*\u001b[39mkwargs) \u001b[39m-\u001b[39m\u001b[39m>\u001b[39m Tuple[Individual, Individual]:\n\u001b[1;32m---> 44\u001b[0m     u \u001b[39m=\u001b[39m np\u001b[39m.\u001b[39;49mrandom\u001b[39m.\u001b[39;49mrand(\u001b[39mself\u001b[39;49m\u001b[39m.\u001b[39;49mdim_uss)\n\u001b[0;32m     46\u001b[0m     \u001b[39m# ~1 TODO\u001b[39;00m\n",
      "\u001b[1;31mKeyboardInterrupt\u001b[0m: ",
      "\nDuring handling of the above exception, another exception occurred:\n",
      "\u001b[1;31mAttributeError\u001b[0m                            Traceback (most recent call last)",
      "\u001b[1;32md:\\Vincent\\Documents\\Lab\\Competition\\official\\MFEA_MSO\\run.ipynb Cell 7'\u001b[0m in \u001b[0;36m<cell line: 20>\u001b[1;34m()\u001b[0m\n\u001b[0;32m      <a href='vscode-notebook-cell:/d%3A/Vincent/Documents/Lab/Competition/official/MFEA_MSO/run.ipynb#ch0000003?line=6'>7</a>\u001b[0m model\u001b[39m.\u001b[39mcompile(\n\u001b[0;32m      <a href='vscode-notebook-cell:/d%3A/Vincent/Documents/Lab/Competition/official/MFEA_MSO/run.ipynb#ch0000003?line=7'>8</a>\u001b[0m     crossover\u001b[39m=\u001b[39m SBX_Crossover(nc \u001b[39m=\u001b[39m \u001b[39m2\u001b[39m),\n\u001b[0;32m      <a href='vscode-notebook-cell:/d%3A/Vincent/Documents/Lab/Competition/official/MFEA_MSO/run.ipynb#ch0000003?line=8'>9</a>\u001b[0m     mutation \u001b[39m=\u001b[39m Polynomial_Mutation(nm \u001b[39m=\u001b[39m \u001b[39m5\u001b[39m),\n\u001b[0;32m     <a href='vscode-notebook-cell:/d%3A/Vincent/Documents/Lab/Competition/official/MFEA_MSO/run.ipynb#ch0000003?line=9'>10</a>\u001b[0m     selection\u001b[39m=\u001b[39m ElitismSelection(random_percent\u001b[39m=\u001b[39m \u001b[39m0.\u001b[39m),\n\u001b[0;32m     <a href='vscode-notebook-cell:/d%3A/Vincent/Documents/Lab/Competition/official/MFEA_MSO/run.ipynb#ch0000003?line=10'>11</a>\u001b[0m )\n\u001b[0;32m     <a href='vscode-notebook-cell:/d%3A/Vincent/Documents/Lab/Competition/official/MFEA_MSO/run.ipynb#ch0000003?line=11'>12</a>\u001b[0m model\u001b[39m.\u001b[39mfit(\n\u001b[0;32m     <a href='vscode-notebook-cell:/d%3A/Vincent/Documents/Lab/Competition/official/MFEA_MSO/run.ipynb#ch0000003?line=12'>13</a>\u001b[0m     nb_inds_each_task\u001b[39m=\u001b[39m\u001b[39m100\u001b[39m,\n\u001b[0;32m     <a href='vscode-notebook-cell:/d%3A/Vincent/Documents/Lab/Competition/official/MFEA_MSO/run.ipynb#ch0000003?line=13'>14</a>\u001b[0m     nb_inds_min\u001b[39m=\u001b[39m\u001b[39m30\u001b[39m,\n\u001b[1;32m   (...)\u001b[0m\n\u001b[0;32m     <a href='vscode-notebook-cell:/d%3A/Vincent/Documents/Lab/Competition/official/MFEA_MSO/run.ipynb#ch0000003?line=17'>18</a>\u001b[0m     evaluate_initial_skillFactor\u001b[39m=\u001b[39m \u001b[39mTrue\u001b[39;00m\n\u001b[0;32m     <a href='vscode-notebook-cell:/d%3A/Vincent/Documents/Lab/Competition/official/MFEA_MSO/run.ipynb#ch0000003?line=18'>19</a>\u001b[0m )\n\u001b[1;32m---> <a href='vscode-notebook-cell:/d%3A/Vincent/Documents/Lab/Competition/official/MFEA_MSO/run.ipynb#ch0000003?line=19'>20</a>\u001b[0m a \u001b[39m=\u001b[39m model\u001b[39m.\u001b[39;49mrun(\n\u001b[0;32m     <a href='vscode-notebook-cell:/d%3A/Vincent/Documents/Lab/Competition/official/MFEA_MSO/run.ipynb#ch0000003?line=20'>21</a>\u001b[0m     nb_run\u001b[39m=\u001b[39;49m \u001b[39m1\u001b[39;49m,\n\u001b[0;32m     <a href='vscode-notebook-cell:/d%3A/Vincent/Documents/Lab/Competition/official/MFEA_MSO/run.ipynb#ch0000003?line=21'>22</a>\u001b[0m     save_path\u001b[39m=\u001b[39;49m save_model_loc\n\u001b[0;32m     <a href='vscode-notebook-cell:/d%3A/Vincent/Documents/Lab/Competition/official/MFEA_MSO/run.ipynb#ch0000003?line=22'>23</a>\u001b[0m )\n",
      "File \u001b[1;32md:\\Vincent\\Documents\\Lab\\Competition\\official\\MFEA_MSO\\MFEA_lib\\model\\utils.py:999\u001b[0m, in \u001b[0;36mMultiBenchmark.run\u001b[1;34m(self, nb_run, save_path)\u001b[0m\n\u001b[0;32m    997\u001b[0m model\u001b[39m.\u001b[39mcompile(\u001b[39m*\u001b[39m\u001b[39m*\u001b[39m\u001b[39mself\u001b[39m\u001b[39m.\u001b[39mcompile_kwargs) \n\u001b[0;32m    998\u001b[0m model\u001b[39m.\u001b[39mfit(\u001b[39m*\u001b[39m\u001b[39m*\u001b[39m\u001b[39mself\u001b[39m\u001b[39m.\u001b[39mfit_kwargs) \n\u001b[1;32m--> 999\u001b[0m model\u001b[39m.\u001b[39;49mrun(nb_run \u001b[39m=\u001b[39;49m nb_run, save_path\u001b[39m=\u001b[39;49m save_path \u001b[39m+\u001b[39;49m \u001b[39mstr\u001b[39;49m(\u001b[39mself\u001b[39;49m\u001b[39m.\u001b[39;49mls_name_benchmark[idx]) \u001b[39m+\u001b[39;49m \u001b[39m\"\u001b[39;49m\u001b[39m.mso\u001b[39;49m\u001b[39m\"\u001b[39;49m) \n\u001b[0;32m   1000\u001b[0m \u001b[39mself\u001b[39m\u001b[39m.\u001b[39mls_model\u001b[39m.\u001b[39mappend(model)\n",
      "File \u001b[1;32md:\\Vincent\\Documents\\Lab\\Competition\\official\\MFEA_MSO\\MFEA_lib\\model\\utils.py:193\u001b[0m, in \u001b[0;36mMultiTimeModel.run\u001b[1;34m(self, nb_run, save_path, seed_arr, random_seed, replace_folder)\u001b[0m\n\u001b[0;32m    190\u001b[0m \u001b[39mself\u001b[39m\u001b[39m.\u001b[39mstatus \u001b[39m=\u001b[39m \u001b[39m'\u001b[39m\u001b[39mRunning\u001b[39m\u001b[39m'\u001b[39m\n\u001b[0;32m    191\u001b[0m \u001b[39mself\u001b[39m\u001b[39m.\u001b[39mset_attribute()\n\u001b[1;32m--> 193\u001b[0m save_result \u001b[39m=\u001b[39m saveModel(\u001b[39mself\u001b[39;49m, save_path)\n\u001b[0;32m    194\u001b[0m \u001b[39mprint\u001b[39m(\u001b[39m'\u001b[39m\u001b[39m\\n\u001b[39;00m\u001b[39m\\n\u001b[39;00m\u001b[39mKeyboardInterrupt: \u001b[39m\u001b[39m'\u001b[39m \u001b[39m+\u001b[39m\n\u001b[0;32m    195\u001b[0m       save_result \u001b[39m+\u001b[39m \u001b[39m'\u001b[39m\u001b[39m model, model is not Done\u001b[39m\u001b[39m'\u001b[39m)\n\u001b[0;32m    196\u001b[0m traceback\u001b[39m.\u001b[39mprint_exc()\n",
      "File \u001b[1;32md:\\Vincent\\Documents\\Lab\\Competition\\official\\MFEA_MSO\\MFEA_lib\\model\\utils.py:235\u001b[0m, in \u001b[0;36msaveModel\u001b[1;34m(model, PATH, remove_tasks)\u001b[0m\n\u001b[0;32m    233\u001b[0m \u001b[39mfor\u001b[39;00m submodel \u001b[39min\u001b[39;00m model\u001b[39m.\u001b[39mls_model:\n\u001b[0;32m    234\u001b[0m     submodel\u001b[39m.\u001b[39mtasks \u001b[39m=\u001b[39m \u001b[39mNone\u001b[39;00m\n\u001b[1;32m--> 235\u001b[0m     submodel\u001b[39m.\u001b[39;49mlast_pop\u001b[39m.\u001b[39mls_tasks \u001b[39m=\u001b[39m \u001b[39mNone\u001b[39;00m\n\u001b[0;32m    236\u001b[0m     \u001b[39mfor\u001b[39;00m subpop \u001b[39min\u001b[39;00m submodel\u001b[39m.\u001b[39mlast_pop:\n\u001b[0;32m    237\u001b[0m         subpop\u001b[39m.\u001b[39mtask \u001b[39m=\u001b[39m \u001b[39mNone\u001b[39;00m\n",
      "\u001b[1;31mAttributeError\u001b[0m: 'model' object has no attribute 'last_pop'"
     ]
    }
   ],
   "source": [
    "model = MultiBenchmark(\n",
    "    ls_benchmark= ls_benchmark,\n",
    "    name_benchmark= name_benchmark,\n",
    "    ls_IndClass= ls_IndClass,\n",
    "    model = model_official\n",
    ")\n",
    "model.compile(\n",
    "    crossover= SBX_Crossover(nc = 2),\n",
    "    mutation = Polynomial_Mutation(nm = 5),\n",
    "    selection= ElitismSelection(random_percent= 0.),\n",
    ")\n",
    "model.fit(\n",
    "    nb_inds_each_task=100,\n",
    "    nb_inds_min=30,\n",
    "    nb_generations=1000,\n",
    "    num_eval_task_per_epoch = num_eval_task_per_epoch,\n",
    "    LSA = True,\n",
    "    evaluate_initial_skillFactor= True\n",
    ")\n",
    "a = model.run(\n",
    "    nb_run= 1,\n",
    "    save_path= save_model_loc\n",
    ")"
   ]
  }
 ],
 "metadata": {
  "kernelspec": {
   "display_name": "Python 3.10.4 ('learnCS')",
   "language": "python",
   "name": "python3"
  },
  "language_info": {
   "codemirror_mode": {
    "name": "ipython",
    "version": 3
   },
   "file_extension": ".py",
   "mimetype": "text/x-python",
   "name": "python",
   "nbconvert_exporter": "python",
   "pygments_lexer": "ipython3",
   "version": "3.10.4"
  },
  "orig_nbformat": 4,
  "vscode": {
   "interpreter": {
    "hash": "d2d74ce3e99bc2d991502eaa9ff6878b69f13ebfe616751bd67e96721470575f"
   }
  }
 },
 "nbformat": 4,
 "nbformat_minor": 2
}
