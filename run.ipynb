{
 "cells": [
  {
   "cell_type": "code",
   "execution_count": 7,
   "metadata": {},
   "outputs": [],
   "source": [
    "from MFEA_lib.model import Model_Offical,Model_Test\n",
    "from MFEA_lib.model.utils import *\n",
    "from MFEA_lib.operators.Crossover import *\n",
    "from MFEA_lib.operators.Mutation import *\n",
    "from MFEA_lib.operators.Selection import *\n",
    "from MFEA_lib.operators.Search import *\n",
    "from MFEA_lib.tasks.Benchmark.Funcs import WCCI22_benchmark"
   ]
  },
  {
   "cell_type": "code",
   "execution_count": 8,
   "metadata": {},
   "outputs": [],
   "source": [
    "class IndividualDE(Individual):\n",
    "    def __init__(self, genes, dim= None) -> None:\n",
    "        super().__init__(genes, dim)\n",
    "        if genes is None:\n",
    "            self.genes: np.ndarray = np.random.rand(dim)\n",
    "        self.transfer =False\n",
    "        self.d_rank = 1"
   ]
  },
  {
   "cell_type": "code",
   "execution_count": 9,
   "metadata": {},
   "outputs": [],
   "source": [
    "ls_benchmark = []\n",
    "ls_IndClass = []\n",
    "for i in range(1, 11, 1):\n",
    "    t, ic = WCCI22_benchmark.get_50tasks_benchmark(i)\n",
    "    ls_benchmark.append(t)\n",
    "    ls_IndClass.append(IndividualDE)\n",
    "\n",
    "name_benchmark = np.arange(len(ls_benchmark)) + 1"
   ]
  },
  {
   "cell_type": "code",
   "execution_count": 11,
   "metadata": {},
   "outputs": [
    {
     "name": "stdout",
     "output_type": "stream",
     "text": [
      "Time: 10m 27.66s  100 % [====================>]  Pop_size: 4.70E+03  ,  Cost: 4.75E-07  4.83E-07  4.21E-07  4.83E-07  4.81E-07  4.79E-07  4.92E-07  4.76E-07  4.92E-07  4.67E-07  4.96E-07  4.43E-07  4.82E-07  4.99E-07  4.88E-07  4.22E-07  4.71E-07  4.90E-07  4.99E-07  4.89E-07  4.99E-07  4.91E-07  4.98E-07  4.87E-07  4.93E-07  4.23E-07  4.93E-07  4.98E-07  4.57E-07  4.96E-07  4.67E-07  4.49E-07  5.00E-07  4.98E-07  4.94E-07  4.67E-07  4.79E-07  4.87E-07  5.00E-07  4.41E-07  4.53E-07  4.72E-07  4.92E-07  4.98E-07  4.68E-07  4.76E-07  4.85E-07  4.72E-07  4.85E-07  4.74E-07  ,  DONE!\n",
      "Saved\n",
      "Time: 12m 7.61s  100 % [====================>]  Pop_size: 4.65E+03  ,  Cost: 1.30E+02  2.26E+02  4.84E+01  4.77E+01  4.91E+02  4.83E+01  4.85E+01  1.11E+02  2.50E+02  4.68E+01  4.55E+01  4.79E+01  4.38E+01  4.56E+01  2.13E+02  5.54E+01  4.85E+01  4.02E+01  4.75E+01  4.69E+01  4.70E+01  6.74E+01  4.79E+01  1.99E+02  4.70E+01  4.59E+01  1.56E+02  2.34E+02  1.10E+02  5.25E+01  4.89E+01  2.64E+02  4.72E+01  4.67E+01  4.39E+01  4.86E+01  8.18E+01  4.69E+01  4.89E+01  1.16E+02  4.82E+01  4.93E+01  4.50E+01  1.02E+02  4.21E+01  4.92E+01  2.23E+02  4.88E+01  4.70E+01  1.36E+02  ,  DONE!\n",
      "Saved\n",
      "Time: 11m 38.75s  100 % [====================>]  Pop_size: 4.65E+03  ,  Cost: 4.18E+01  4.28E+01  4.38E+01  5.67E+01  4.68E+01  6.07E+01  6.17E+01  5.67E+01  6.27E+01  5.57E+01  5.67E+01  3.78E+01  3.88E+01  5.47E+01  4.97E+01  4.97E+01  4.38E+01  4.88E+01  7.26E+01  5.97E+01  4.97E+01  4.38E+01  5.97E+01  6.96E+01  6.07E+01  5.07E+01  7.26E+01  7.46E+01  3.08E+01  8.16E+01  7.06E+01  5.37E+01  6.37E+01  5.87E+01  6.77E+01  5.47E+01  6.67E+01  7.56E+01  4.97E+01  4.97E+01  5.17E+01  4.28E+01  4.88E+01  4.88E+01  5.97E+01  1.09E+02  9.05E+01  4.88E+01  5.67E+01  9.95E+01  ,  DONE!\n",
      "Saved\n",
      "Time: 11m 57.08s  100 % [====================>]  Pop_size: 4.65E+03  ,  Cost: 4.90E-07  4.53E+01  1.82E-06  4.75E-07  4.50E+01  2.88E-06  4.94E-07  4.50E+01  6.30E-06  4.88E-07  4.25E+01  2.56E-06  4.71E-07  4.55E+01  3.37E-06  4.66E-07  4.56E+01  9.59E-06  4.92E-07  4.59E+01  2.23E-06  4.24E-07  4.50E+01  1.73E-06  4.57E-07  5.04E+01  9.16E-07  4.43E-07  1.76E+02  1.54E-06  4.96E-07  4.65E+01  1.16E+00  4.89E-07  4.84E+01  3.05E-06  3.82E-07  4.61E+01  1.63E-06  4.96E-07  4.43E+01  2.37E-06  4.39E-07  4.68E+01  7.59E-07  4.83E-07  4.69E+01  3.90E-06  4.78E-07  4.60E+01  ,  DONE!\n",
      "Saved\n",
      "Time: 13m 36.38s  100 % [====================>]  Pop_size: 4.65E+03  ,  Cost: 4.28E+01  4.90E-07  3.97E+00  5.47E+01  4.90E-07  2.92E+00  6.47E+01  4.65E-07  2.83E+00  6.57E+01  4.58E-07  3.07E+00  4.28E+01  4.69E-07  3.34E+00  5.97E+01  4.96E-07  2.36E+00  4.97E+01  4.93E-07  2.16E+00  4.97E+01  1.40E-06  3.35E+00  1.01E+02  4.71E-07  3.30E+00  9.55E+01  4.80E-07  3.36E+00  5.37E+01  4.74E-07  3.15E+00  4.97E+01  4.85E-07  3.86E+00  3.68E+01  4.89E-07  5.90E+00  5.77E+01  4.74E-07  3.21E+00  8.06E+01  4.90E-07  4.16E+00  7.06E+01  6.18E-07  3.10E+00  6.57E+01  4.32E-07  ,  DONE!\n",
      "Saved\n",
      "Time: 12m 1.10s  100 % [====================>]  Pop_size: 4.65E+03  ,  Cost: 4.78E+01  4.91E-07  7.99E+03  4.66E+01  4.40E-07  8.75E+03  4.74E+01  4.90E-07  7.41E+03  4.79E+01  4.78E-07  6.57E+03  4.77E+01  4.53E-07  7.08E+03  4.82E+01  4.93E-07  9.97E+03  3.85E+01  4.92E-07  6.22E+03  4.80E+01  4.90E-07  8.29E+03  1.18E+02  4.88E-07  5.57E+03  4.47E+01  4.78E-07  6.04E+03  4.80E+01  4.66E-07  6.90E+03  4.60E+01  4.88E-07  7.43E+03  1.08E+02  4.95E-07  7.59E+03  5.28E+01  7.40E-03  7.12E+03  4.65E+01  4.65E-07  8.26E+03  5.50E+02  4.72E-07  6.60E+03  4.54E+01  4.60E-07  ,  DONE!\n",
      "Saved\n",
      "Time: 15m 20.23s  100 % [====================>]  Pop_size: 4.65E+03  ,  Cost: 1.57E-05  7.06E+01  4.13E+00  1.41E-05  5.37E+01  4.00E+00  4.47E-05  7.16E+01  4.63E+00  2.38E-05  6.87E+01  3.69E+00  2.26E-05  6.37E+01  2.26E+00  1.28E-05  7.46E+01  2.69E+00  2.37E-05  5.57E+01  1.85E+00  4.77E-05  8.06E+01  3.38E+00  1.02E-05  5.67E+01  3.23E+00  3.03E-05  5.67E+01  2.86E+00  1.21E-05  5.87E+01  3.13E+00  8.53E-06  7.06E+01  2.48E+00  2.82E-05  6.27E+01  2.38E+00  1.45E-05  7.16E+01  3.38E+00  1.42E-05  8.26E+01  3.99E+00  2.59E-05  6.87E+01  5.11E+00  1.83E-05  3.28E+01  ,  DONE!\n",
      "Saved\n",
      "Time: 12m 47.77s  100 % [====================>]  Pop_size: 4.65E+03  ,  Cost: 4.66E+01  8.79E-01  7.66E+01  7.40E-03  1.02E+01  4.75E+01  8.79E-01  6.37E+01  4.90E-07  1.39E+01  4.87E+01  1.16E+00  5.77E+01  2.58E-06  5.26E+00  4.89E+01  1.65E+00  5.47E+01  4.75E-07  7.85E+00  4.92E+01  2.48E+00  6.96E+01  4.87E-07  1.35E+01  4.82E+01  2.01E+00  7.16E+01  4.90E-07  1.63E+01  9.87E+01  1.73E+00  5.97E+01  7.66E-07  1.79E+01  1.13E+02  1.27E+00  6.67E+01  4.72E-07  1.27E+01  1.07E+02  1.47E+00  1.00E+02  4.87E-07  2.11E+01  1.16E+02  1.95E+00  4.48E+01  4.73E-07  6.72E-01  ,  DONE!\n",
      "Saved\n",
      "Time: 20m 2.12s  100 % [====================>]  Pop_size: 4.65E+03  ,  Cost: 4.91E+01  1.47E+00  9.45E+01  6.76E-07  1.06E+01  4.98E+03  4.91E+01  2.08E+00  6.37E+01  4.93E-07  1.29E+01  5.12E+03  4.64E+01  2.48E-04  5.67E+01  4.74E-07  1.48E+01  4.97E+03  4.68E+01  1.95E+00  5.37E+01  4.99E-07  1.29E+01  7.25E+03  2.61E+02  1.56E+00  6.37E+01  4.75E-07  1.51E+01  5.36E+03  1.27E+02  1.16E+00  5.57E+01  5.67E-07  1.15E+01  8.35E+03  2.37E+02  8.79E-01  4.38E+01  4.64E-07  9.00E+00  6.16E+03  4.71E+01  1.65E+00  1.18E+02  6.98E-07  1.25E+01  6.70E+03  1.21E+02  4.62E-07  ,  DONE!\n",
      "Saved\n",
      "Time: 22m 35.12s  100 % [====================>]  Pop_size: 4.65E+03  ,  Cost: 1.37E+00  5.17E+01  7.40E-03  1.92E+01  5.50E+03  2.43E+00  5.67E+01  6.51E-07  8.66E+00  7.15E+03  1.73E+00  4.58E+01  1.61E-06  1.63E+01  7.31E+03  5.04E+00  5.17E+01  4.85E-07  1.64E+01  6.93E+03  8.79E-01  8.16E+01  4.89E-07  1.46E+01  4.70E+03  1.88E+00  6.57E+01  5.35E-07  1.45E+01  7.18E+03  3.52E-04  5.97E+01  1.06E-06  1.02E+01  6.16E+03  2.32E+00  7.96E+01  4.76E-07  1.40E+01  7.92E+03  1.65E+00  7.96E+01  4.89E-07  1.01E+01  6.49E+03  1.73E+00  4.88E+01  4.87E-07  1.63E+01  5.25E+03  ,  DONE!\n",
      "Saved\n"
     ]
    }
   ],
   "source": [
    "model = MultiBenchmark(\n",
    "    ls_benchmark= ls_benchmark,\n",
    "    name_benchmark= name_benchmark,\n",
    "    ls_IndClass= ls_IndClass,\n",
    "    model = Model_Test\n",
    ")\n",
    "model.compile(\n",
    "    crossover= SBX_Crossover(nc = 2),\n",
    "    mutation = Polynomial_Mutation(nm = 5),\n",
    "    selection= ElitismSelection(random_percent= 0.),\n",
    ")\n",
    "model.fit(\n",
    "    nb_inds_each_task=100,\n",
    "    nb_inds_min=4,\n",
    "    nb_generations=1000,\n",
    "    LSA = True,\n",
    "    evaluate_initial_skillFactor= True\n",
    ")\n",
    "a = model.run(\n",
    "    nb_run= 1,\n",
    "    save_path= \"./model_saved/__static__/WCCI22_manytask/model_test/model_benchmark_id_\"\n",
    ")"
   ]
  },
  {
   "cell_type": "code",
   "execution_count": 12,
   "metadata": {},
   "outputs": [
    {
     "ename": "TypeError",
     "evalue": "'method' object is not subscriptable",
     "output_type": "error",
     "traceback": [
      "\u001b[1;31m---------------------------------------------------------------------------\u001b[0m",
      "\u001b[1;31mTypeError\u001b[0m                                 Traceback (most recent call last)",
      "\u001b[1;32md:\\Lab\\mso-ea\\run.ipynb Cell 5'\u001b[0m in \u001b[0;36m<cell line: 1>\u001b[1;34m()\u001b[0m\n\u001b[1;32m----> <a href='vscode-notebook-cell:/d%3A/Lab/mso-ea/run.ipynb#ch0000004?line=0'>1</a>\u001b[0m model\u001b[39m.\u001b[39;49mprint_result[\u001b[39m'\u001b[39;49m\u001b[39mhistory_cost\u001b[39;49m\u001b[39m'\u001b[39;49m]\n",
      "\u001b[1;31mTypeError\u001b[0m: 'method' object is not subscriptable"
     ]
    }
   ],
   "source": [
    "model.print_result['history_cost']"
   ]
  },
  {
   "cell_type": "markdown",
   "metadata": {},
   "source": [
    "Write the result complex benchmark to text file\n",
    "---------------"
   ]
  },
  {
   "cell_type": "code",
   "execution_count": null,
   "metadata": {},
   "outputs": [],
   "source": [
    "# def write_res(res, path_out):\n",
    "#     with open(path_out, 'w') as fi:\n",
    "#         for i in res:\n",
    "#             fi.write(str(int(i[0])) + \", \")\n",
    "#             for j in range(1, len(i)-1):\n",
    "#                 fi.write(str(i[j])+\", \")\n",
    "#             fi.write(str(i[len(i)-1])+\"\\n\")\n",
    "\n",
    "# len_out_complex = 100\n",
    "\n",
    "# for id in range(1, 11):\n",
    "\n",
    "#     model_mbm = loadModel(f\"model_saved\\__static__\\WCCI22_complex\\model_official\\model_benchmark_id_{id}.mso\", ls_tasks=WCCI22_benchmark.get_complex_benchmark(id))\n",
    "\n",
    "#     res = model_mbm.ls_model[0].history_cost[:len_out_complex]\n",
    "#     for i in range(1,model_mbm.nb_run):\n",
    "#         res = np.concatenate((res, np.array(model_mbm.ls_model[i].history_cost[:100])), 1)\n",
    "#     res.shape[0]\n",
    "#     num_evals = (np.arange(1, res.shape[0] + 1) * 1000 * len(model_mbm.tasks)).reshape(-1,1)\n",
    "#     out = np.concatenate((num_evals, res), 1)\n",
    "\n",
    "\n",
    "\n",
    "#     write_res(out, f\"./result/MTO-complex/MTOSOO_P{id}.txt\")"
   ]
  }
 ],
 "metadata": {
  "kernelspec": {
   "display_name": "Python 3.9.12 ('python')",
   "language": "python",
   "name": "python3"
  },
  "language_info": {
   "codemirror_mode": {
    "name": "ipython",
    "version": 3
   },
   "file_extension": ".py",
   "mimetype": "text/x-python",
   "name": "python",
   "nbconvert_exporter": "python",
   "pygments_lexer": "ipython3",
   "version": "3.9.12"
  },
  "orig_nbformat": 4,
  "vscode": {
   "interpreter": {
    "hash": "8b755264e74d2c54d302155e7ba1426216751b8619e27e7d20d668d5785a6140"
   }
  }
 },
 "nbformat": 4,
 "nbformat_minor": 2
}
