{
 "cells": [
  {
   "cell_type": "code",
   "execution_count": 1,
   "metadata": {},
   "outputs": [],
   "source": [
    "from MFEA_lib.model import Model_Offical,Model_Test\n",
    "from MFEA_lib.model.utils import *\n",
    "from MFEA_lib.operators.Crossover import *\n",
    "from MFEA_lib.operators.Mutation import *\n",
    "from MFEA_lib.operators.Selection import *\n",
    "from MFEA_lib.operators.Search import *\n",
    "from MFEA_lib.tasks.Benchmark.Funcs import WCCI22_benchmark"
   ]
  },
  {
   "cell_type": "code",
   "execution_count": 2,
   "metadata": {},
   "outputs": [],
   "source": [
    "class IndividualDE(Individual):\n",
    "    def __init__(self, genes, dim= None) -> None:\n",
    "        super().__init__(genes, dim)\n",
    "        if genes is None:\n",
    "            self.genes: np.ndarray = np.random.rand(dim)\n",
    "        self.transfer =False\n",
    "        self.d_rank = 1"
   ]
  },
  {
   "cell_type": "code",
   "execution_count": 3,
   "metadata": {},
   "outputs": [],
   "source": [
    "ls_benchmark = []\n",
    "ls_IndClass = []\n",
    "for i in range(1, 11, 1):\n",
    "    t, ic = WCCI22_benchmark.get_50tasks_benchmark(i)\n",
    "    ls_benchmark.append(t)\n",
    "    ls_IndClass.append(IndividualDE)\n",
    "\n",
    "name_benchmark = np.arange(len(ls_benchmark)) + 1"
   ]
  },
  {
   "cell_type": "code",
   "execution_count": 4,
   "metadata": {},
   "outputs": [
    {
     "name": "stdout",
     "output_type": "stream",
     "text": [
      "Time: 11m 10.39s  100 % [====================>]  Pop_size: 4.65E+03  ,  Cost: 4.75E-07  4.53E-07  4.77E-07  4.95E-07  4.82E-07  4.85E-07  4.83E-07  4.80E-07  4.90E-07  4.94E-07  4.75E-07  4.74E-07  4.79E-07  4.96E-07  4.94E-07  4.65E-07  4.83E-07  4.96E-07  4.22E-07  4.83E-07  4.93E-07  4.77E-07  4.98E-07  4.66E-07  4.80E-07  4.97E-07  4.75E-07  4.70E-07  4.59E-07  4.71E-07  4.79E-07  4.97E-07  4.93E-07  4.62E-07  4.65E-07  4.86E-07  4.85E-07  4.64E-07  4.94E-07  4.92E-07  4.97E-07  4.96E-07  4.88E-07  4.98E-07  4.91E-07  4.92E-07  4.84E-07  4.86E-07  4.87E-07  4.52E-07  ,  DONE!\n",
      "Saved\n",
      "Time: 12m 33.15s  100 % [====================>]  Pop_size: 4.65E+03  ,  Cost: 4.92E+01  1.64E+02  7.76E+01  4.47E+01  1.68E+02  4.69E+01  4.92E+01  4.84E+01  4.64E+01  4.62E+01  4.71E+01  9.56E+01  4.92E+01  4.67E+01  4.34E+01  4.07E+01  4.78E+01  4.75E+01  4.72E+01  4.52E+01  4.80E+01  4.89E+01  4.67E+01  4.83E+01  4.59E+01  4.72E+01  4.90E+01  7.73E+01  1.02E+02  4.87E+01  4.61E+01  4.90E+01  3.49E+01  4.92E+01  4.63E+01  4.70E+01  4.79E+01  4.41E+01  4.84E+01  4.91E+01  4.72E+01  4.83E+01  4.63E+01  4.60E+01  4.80E+01  4.92E+01  1.16E+02  4.86E+01  4.58E+01  4.48E+01  ,  DONE!\n",
      "Saved\n",
      "Time: 11m 0.15s  100 % [====================>]  Pop_size: 4.65E+03  ,  Cost: 1.27E+02  1.62E+02  1.67E+02  1.14E+02  1.05E+02  7.86E+01  1.63E+02  1.05E+02  1.13E+02  1.18E+02  1.47E+02  1.10E+02  1.68E+02  1.57E+02  8.95E+01  1.34E+02  1.54E+02  1.39E+02  1.23E+02  1.61E+02  1.05E+02  1.93E+02  1.30E+02  1.20E+02  1.14E+02  1.38E+02  1.18E+02  8.56E+01  1.09E+02  1.12E+02  1.04E+02  8.26E+01  1.19E+02  9.45E+01  1.15E+02  9.25E+01  1.09E+02  8.46E+01  9.95E+01  1.50E+02  1.22E+02  7.66E+01  9.15E+01  1.27E+02  1.18E+02  1.56E+02  8.46E+01  8.06E+01  1.12E+02  1.18E+02  ,  DONE!\n",
      "Saved\n",
      "Time: 11m 25.20s  100 % [====================>]  Pop_size: 4.65E+03  ,  Cost: 4.63E-07  4.80E+01  1.47E+00  4.91E-07  4.75E+01  1.56E+00  4.93E-07  3.00E+01  1.03E+00  4.83E-07  1.02E+02  1.73E+00  4.84E-07  4.55E+01  1.74E-03  4.39E-07  4.07E+01  1.47E+00  4.96E-07  4.83E+01  1.56E+00  4.93E-07  9.92E+01  2.72E+00  4.42E-07  4.92E+01  1.16E+00  4.77E-07  2.41E+02  1.56E+00  4.73E-07  2.23E+02  2.43E+00  4.86E-07  5.10E+01  1.56E+00  4.93E-07  4.85E+01  1.47E+00  4.75E-07  1.01E+02  1.37E+00  9.91E-07  1.42E+02  1.03E+00  4.75E-07  4.86E+01  2.26E+00  4.51E-07  4.69E+01  ,  DONE!\n",
      "Saved\n",
      "Time: 13m 22.47s  100 % [====================>]  Pop_size: 4.65E+03  ,  Cost: 1.97E+02  9.87E-03  1.59E+01  1.66E+02  1.48E-02  1.48E+01  1.73E+02  7.41E-03  1.14E+01  1.72E+02  1.35E-05  1.39E+01  1.29E+02  9.87E-03  1.60E+01  1.73E+02  7.40E-03  1.24E+01  1.72E+02  1.33E-06  1.60E+01  1.89E+02  4.86E-06  1.59E+01  1.51E+02  2.58E-05  1.73E+01  1.59E+02  1.54E-05  1.47E+01  1.70E+02  2.48E-06  1.89E+01  1.26E+02  7.40E-03  1.19E+01  1.24E+02  7.41E-03  1.74E+01  1.35E+02  2.36E-06  1.28E+01  1.36E+02  7.53E-06  1.47E+01  1.89E+02  6.42E-06  1.54E+01  1.71E+02  4.73E-07  ,  DONE!\n",
      "Saved\n",
      "Time: 11m 57.29s  100 % [====================>]  Pop_size: 4.65E+03  ,  Cost: 4.31E+01  2.90E-06  5.69E+03  4.90E+01  4.95E-06  5.88E+03  3.79E+02  1.48E-02  6.57E+03  3.25E+02  1.23E-02  7.38E+03  3.98E+02  1.50E-05  9.30E+03  2.11E+02  1.75E-05  7.27E+03  4.70E+01  1.17E-05  6.57E+03  5.02E+01  2.88E-06  7.86E+03  9.98E+01  4.66E-06  7.54E+03  4.89E+01  4.88E-06  4.95E+03  1.55E+02  1.18E-05  8.21E+03  3.39E+01  1.40E-05  7.46E+03  4.80E+01  7.40E-03  5.63E+03  3.31E+02  5.77E-06  6.14E+03  8.51E+01  3.98E-06  8.84E+03  2.91E+02  9.17E-06  7.52E+03  4.68E+01  4.88E-07  ,  DONE!\n",
      "Saved\n",
      "Time: 14m 9.59s  100 % [====================>]  Pop_size: 4.65E+03  ,  Cost: 1.80E+00  1.69E+02  1.73E+01  8.79E-01  1.57E+02  1.71E+01  4.38E-03  1.31E+02  9.99E+00  2.01E+00  1.33E+02  1.53E+01  8.79E-01  1.29E+02  1.82E+01  2.37E+00  1.89E+02  1.60E+01  1.37E+00  1.53E+02  1.53E+01  1.16E+00  1.82E+02  8.28E+00  1.95E+00  1.79E+02  1.23E+01  1.80E+00  8.06E+01  2.01E+01  1.65E+00  1.18E+02  1.78E+01  1.73E+00  1.09E+02  1.43E+01  2.43E+00  1.43E+02  1.11E+01  1.37E+00  1.52E+02  1.88E+01  1.95E+00  1.55E+02  1.59E+01  1.16E+00  7.76E+01  1.07E+01  2.43E+00  1.01E+02  ,  DONE!\n",
      "Saved\n",
      "Time: 13m 22.52s  100 % [====================>]  Pop_size: 4.65E+03  ,  Cost: 1.09E+02  2.48E+00  1.68E+02  5.43E-06  2.35E+01  4.83E+01  2.20E+00  1.69E+02  8.74E-06  2.20E+01  4.71E+01  1.47E+00  1.70E+02  6.35E-06  1.80E+01  4.23E+02  2.58E+00  2.29E+02  2.51E-05  1.68E+01  4.91E+01  1.88E+00  9.65E+01  9.29E-05  2.19E+01  1.63E+02  2.32E+00  1.26E+02  6.51E-06  2.13E+01  1.53E+02  1.27E+00  2.73E+02  2.23E-05  1.68E+01  4.92E+01  1.16E+00  2.19E+02  1.23E-02  1.80E+01  4.55E+01  1.95E+00  1.85E+02  1.13E-05  1.78E+01  4.79E+01  2.20E+00  1.81E+02  1.57E-05  2.30E+01  ,  DONE!\n",
      "Saved\n",
      "Time: 12m 51.29s  100 % [====================>]  Pop_size: 4.65E+03  ,  Cost: 4.68E+01  5.06E-03  1.65E+02  4.00E-05  2.41E+01  5.01E+03  4.82E+01  2.01E+00  1.51E+02  2.61E-05  2.29E+01  3.82E+03  4.52E+01  1.56E+00  1.55E+02  4.94E-06  1.81E+01  5.77E+03  1.40E+02  1.37E+00  1.88E+02  1.26E-05  1.93E+01  5.48E+03  4.81E+01  1.37E+00  1.97E+02  1.17E-05  2.00E+01  5.28E+03  7.12E+01  2.20E+00  1.40E+02  7.40E-03  1.93E+01  3.49E+03  4.91E+01  2.20E+00  1.83E+02  1.55E-05  2.69E+01  5.82E+03  4.77E+01  2.48E+00  2.70E+02  2.68E-05  1.85E+01  7.50E+02  1.03E+02  7.58E-07  ,  DONE!\n",
      "Saved\n",
      "Time: 13m 16.20s  100 % [====================>]  Pop_size: 4.65E+03  ,  Cost: 1.73E+00  1.69E+02  9.88E-03  2.37E+01  7.26E+03  1.65E+00  2.61E+02  7.40E-03  2.30E+01  6.98E+03  1.47E+00  1.63E+02  4.54E-06  2.40E+01  7.03E+03  1.88E+00  2.17E+02  3.79E-05  2.85E+01  6.81E+03  2.43E+00  1.69E+02  1.33E-05  2.26E+01  3.32E+03  1.73E+00  2.34E+02  2.68E-05  1.73E+01  5.80E+03  1.47E+00  2.21E+02  3.17E-06  3.03E+01  6.88E+03  1.73E+00  1.62E+02  2.92E-06  1.84E+01  5.73E+03  2.08E+00  1.08E+02  7.39E-05  2.70E+01  5.55E+03  1.88E+00  1.41E+02  2.44E-05  1.88E+01  4.70E+03  ,  DONE!\n",
      "Saved\n"
     ]
    }
   ],
   "source": [
    "model = MultiBenchmark(\n",
    "    ls_benchmark= ls_benchmark,\n",
    "    name_benchmark= name_benchmark,\n",
    "    ls_IndClass= ls_IndClass,\n",
    "    model = Model_Test\n",
    ")\n",
    "model.compile(\n",
    "    crossover= SBX_Crossover(nc = 2),\n",
    "    mutation = Polynomial_Mutation(nm = 5),\n",
    "    selection= ElitismSelection(random_percent= 0.),\n",
    ")\n",
    "model.fit(\n",
    "    nb_inds_each_task=100,\n",
    "    nb_inds_min=30,\n",
    "    nb_generations=1000,\n",
    "    LSA = True,\n",
    "    evaluate_initial_skillFactor= True\n",
    ")\n",
    "a = model.run(\n",
    "    nb_run= 1,\n",
    "    save_path= \"./model_saved/__static__/WCCI22_manytask/model_test/model_benchmark_id_\"\n",
    ")"
   ]
  },
  {
   "cell_type": "markdown",
   "metadata": {},
   "source": [
    "Write the result complex benchmark to text file\n",
    "---------------"
   ]
  },
  {
   "cell_type": "code",
   "execution_count": null,
   "metadata": {},
   "outputs": [],
   "source": [
    "# def write_res(res, path_out):\n",
    "#     with open(path_out, 'w') as fi:\n",
    "#         for i in res:\n",
    "#             fi.write(str(int(i[0])) + \", \")\n",
    "#             for j in range(1, len(i)-1):\n",
    "#                 fi.write(str(i[j])+\", \")\n",
    "#             fi.write(str(i[len(i)-1])+\"\\n\")\n",
    "\n",
    "# len_out_complex = 100\n",
    "\n",
    "# for id in range(1, 11):\n",
    "\n",
    "#     model_mbm = loadModel(f\"model_saved\\__static__\\WCCI22_complex\\model_official\\model_benchmark_id_{id}.mso\", ls_tasks=WCCI22_benchmark.get_complex_benchmark(id))\n",
    "\n",
    "#     res = model_mbm.ls_model[0].history_cost[:len_out_complex]\n",
    "#     for i in range(1,model_mbm.nb_run):\n",
    "#         res = np.concatenate((res, np.array(model_mbm.ls_model[i].history_cost[:100])), 1)\n",
    "#     res.shape[0]\n",
    "#     num_evals = (np.arange(1, res.shape[0] + 1) * 1000 * len(model_mbm.tasks)).reshape(-1,1)\n",
    "#     out = np.concatenate((num_evals, res), 1)\n",
    "\n",
    "\n",
    "\n",
    "#     write_res(out, f\"./result/MTO-complex/MTOSOO_P{id}.txt\")"
   ]
  }
 ],
 "metadata": {
  "kernelspec": {
   "display_name": "Python 3.9.12 ('python')",
   "language": "python",
   "name": "python3"
  },
  "language_info": {
   "codemirror_mode": {
    "name": "ipython",
    "version": 3
   },
   "file_extension": ".py",
   "mimetype": "text/x-python",
   "name": "python",
   "nbconvert_exporter": "python",
   "pygments_lexer": "ipython3",
   "version": "3.9.12"
  },
  "orig_nbformat": 4,
  "vscode": {
   "interpreter": {
    "hash": "8b755264e74d2c54d302155e7ba1426216751b8619e27e7d20d668d5785a6140"
   }
  }
 },
 "nbformat": 4,
 "nbformat_minor": 2
}
